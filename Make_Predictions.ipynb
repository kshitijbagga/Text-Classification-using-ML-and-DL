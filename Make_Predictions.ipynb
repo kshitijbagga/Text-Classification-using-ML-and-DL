{
 "cells": [
  {
   "cell_type": "code",
   "execution_count": 8,
   "id": "b8b4d05d",
   "metadata": {},
   "outputs": [
    {
     "name": "stdout",
     "output_type": "stream",
     "text": [
      "Predicted category: general\n"
     ]
    }
   ],
   "source": [
    "from transformers import BertTokenizer, BertForSequenceClassification\n",
    "import torch\n",
    "import joblib\n",
    "\n",
    "# Load the saved model and tokenizer\n",
    "model_save_path = r\"C:\\Users\\Kshitij Bagga\\Desktop\\saved_model\"\n",
    "model = BertForSequenceClassification.from_pretrained(model_save_path)\n",
    "tokenizer = BertTokenizer.from_pretrained(model_save_path)\n",
    "\n",
    "# Load the label encoder\n",
    "label_encoder = joblib.load(r\"C:\\Users\\Kshitij Bagga\\Desktop\\saved_model\\label_encoder.pkl\")\n",
    "\n",
    "# Make sure the model is in evaluation mode\n",
    "model.eval()\n",
    "\n",
    "# Input heading\n",
    "input_text = \"kidney\"\n",
    "\n",
    "# Tokenize the sample input\n",
    "inputs = tokenizer.encode_plus(\n",
    "    input_text,  # Use input_text instead of sample_text\n",
    "    max_length=128,  # same max length as used during training\n",
    "    padding='max_length',\n",
    "    truncation=True,\n",
    "    return_tensors='pt'  # Return PyTorch tensors\n",
    ")\n",
    "\n",
    "# Get the input IDs and attention mask\n",
    "input_ids = inputs['input_ids']\n",
    "attention_mask = inputs['attention_mask']\n",
    "\n",
    "# Perform the prediction\n",
    "with torch.no_grad():\n",
    "    outputs = model(input_ids=input_ids, attention_mask=attention_mask)\n",
    "    logits = outputs.logits\n",
    "\n",
    "# Get the predicted label by selecting the label with the highest score\n",
    "predicted_label_id = torch.argmax(logits, dim=1).item()\n",
    "\n",
    "# Convert the predicted label ID back to the original category using the label encoder\n",
    "predicted_category = label_encoder.inverse_transform([predicted_label_id])\n",
    "\n",
    "print(f\"Predicted category: {predicted_category[0]}\")"
   ]
  },
  {
   "cell_type": "code",
   "execution_count": null,
   "id": "e12c84a3",
   "metadata": {},
   "outputs": [],
   "source": []
  }
 ],
 "metadata": {
  "kernelspec": {
   "display_name": "Python 3 (ipykernel)",
   "language": "python",
   "name": "python3"
  },
  "language_info": {
   "codemirror_mode": {
    "name": "ipython",
    "version": 3
   },
   "file_extension": ".py",
   "mimetype": "text/x-python",
   "name": "python",
   "nbconvert_exporter": "python",
   "pygments_lexer": "ipython3",
   "version": "3.11.3"
  }
 },
 "nbformat": 4,
 "nbformat_minor": 5
}
